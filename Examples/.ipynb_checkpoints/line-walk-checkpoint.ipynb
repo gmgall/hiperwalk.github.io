{
 "cells": [
  {
   "cell_type": "markdown",
   "id": "1c356184",
   "metadata": {},
   "source": [
    "# Coined Model "
   ]
  },
  {
   "cell_type": "code",
   "execution_count": 2,
   "id": "e239a320",
   "metadata": {},
   "outputs": [
    {
     "ename": "SyntaxError",
     "evalue": "invalid syntax (407570609.py, line 15)",
     "output_type": "error",
     "traceback": [
      "\u001b[0;36m  Input \u001b[0;32mIn [2]\u001b[0;36m\u001b[0m\n\u001b[0;31m    from ../CoinedModel import *\u001b[0m\n\u001b[0m           ^\u001b[0m\n\u001b[0;31mSyntaxError\u001b[0m\u001b[0;31m:\u001b[0m invalid syntax\n"
     ]
    }
   ],
   "source": [
    "import math\n",
    "import numpy as np\n",
    "import scipy as sp\n",
    "import sympy as sy\n",
    "import networkx\n",
    "from numpy import linalg as LA\n",
    "from random import random,randint\n",
    "import cmath \n",
    "from neblina import *\n",
    "import scipy.special\n",
    "import time\n",
    "import sys\n",
    "import matplotlib.pyplot as plt\n",
    "\n",
    "from CoinedModel import *"
   ]
  },
  {
   "cell_type": "code",
   "execution_count": null,
   "id": "346cb41d",
   "metadata": {},
   "outputs": [],
   "source": [
    "float_ = 2 #TODO import constants (to avoid surprises case they're changed)\n",
    "complex_ = 13 #TODO import constants (to avoid surprises case they're changed)\n",
    "init_engine(0)"
   ]
  },
  {
   "cell_type": "code",
   "execution_count": null,
   "id": "8785cd7a",
   "metadata": {},
   "outputs": [],
   "source": [
    "num_vert = 201 #1 in the middle and 100 towards each side\n",
    "adj_mtrx = np.zeros((num_vert, num_vert))\n",
    "\n",
    "#populates adjacency matrix for line graph (actually circular graph)\n",
    "for i in range(num_vert):\n",
    "    adj_mtrx[i, (i-1)%num_vert] = adj_mtrx[i, (i+1)%num_vert] = 1\n",
    "adj_mtrx"
   ]
  },
  {
   "cell_type": "code",
   "execution_count": null,
   "id": "d52d4261",
   "metadata": {},
   "outputs": [],
   "source": [
    "S = ShiftOperator(adj_mtrx)\n",
    "S.todense()"
   ]
  },
  {
   "cell_type": "code",
   "execution_count": null,
   "id": "d85e67d6",
   "metadata": {},
   "outputs": [],
   "source": [
    "C = CoinOperator(adj_mtrx, 'hadamard')\n",
    "#C.todense()"
   ]
  },
  {
   "cell_type": "code",
   "execution_count": null,
   "id": "aec8b3da",
   "metadata": {
    "scrolled": true
   },
   "outputs": [],
   "source": [
    "mid_vert = int(np.ceil(num_vert / 2)) - 1\n",
    "mid_vert\n",
    "\n",
    "#beware that the coin is 2-sided,\n",
    "#thus, the initial condition being in the middle vertex,\n",
    "psi0 = np.zeros(2*num_vert, dtype=complex)\n",
    "psi0[2*mid_vert] = 1 #pointing towards the right\n",
    "psi0[2*mid_vert + 1] = complex(0, -1)\n",
    "psi0 = psi0 / np.sqrt(2)\n",
    "psi0"
   ]
  },
  {
   "cell_type": "code",
   "execution_count": null,
   "id": "43658bff",
   "metadata": {},
   "outputs": [],
   "source": [
    "U = EvolutionOperator_CoinedModel(adj_mtrx, C)\n",
    "U.todense()"
   ]
  },
  {
   "cell_type": "code",
   "execution_count": null,
   "id": "b5c16e58",
   "metadata": {},
   "outputs": [],
   "source": [
    "def vec_f_(V):\n",
    "#    printpsi0(\"test_vector_sparse_matrix_multiplication_complex\")\n",
    "    n = V.shape[0]\n",
    "    vec_f = vector_new(n, complex_)\n",
    "    for i in range(n):\n",
    "        #TODO: check type\n",
    "        #below doesnt work because imaginary part = 0\n",
    "        #vector_set(vec_f, i, V[i], 0) \n",
    "        vector_set(vec_f, i, V[i].real, V[i].imag)\n",
    "    return vec_f\n",
    "        \n",
    "def smat_f_(M):\n",
    "#    print(\"test_vector_sparse_matrix_multiplication_complex\")\n",
    "    n = M.shape[0]\n",
    "\n",
    "    smat_f = sparse_matrix_new(n, n, complex_)\n",
    "    \n",
    "    for i in range(0,n):\n",
    "        for j in range(0,n):\n",
    "            if M[i,j] != 0.:\n",
    "                #TODO: check type\n",
    "                #below doesnt work because imaginary part = 0\n",
    "                sparse_matrix_set(smat_f, i, j, M[i,j], 0)\n",
    "\n",
    "#    sparse_matrix_pack(smat_f)\n",
    "    return smat_f\n",
    "\n",
    "start = time.time()\n",
    "vec_psi0 = vec_f_(psi0)\n",
    "#smat_S = smat_f_(S)\n",
    "#smat_C = smat_f_(C)\n",
    "smat_Uprime = smat_f_(U)\n",
    "print(time.time() - start)"
   ]
  },
  {
   "cell_type": "code",
   "execution_count": null,
   "id": "e8362e3c",
   "metadata": {},
   "outputs": [],
   "source": [
    "def test_vector_sparse_matrix_multiplication_complex_S_C(vec_f,smat_f,smat_f2,N):\n",
    "#    print(\"test_vector_sparse_matrix_multiplication_complex\")\n",
    "    print(1)\n",
    "    \n",
    "    sparse_matrix_pack(smat_f)\n",
    "    sparse_matrix_pack(smat_f2)\n",
    "    \n",
    "    move_vector_device(vec_f)\n",
    "    move_sparse_matrix_device(smat_f)\n",
    "    move_sparse_matrix_device(smat_f2)\n",
    "\n",
    "    res = sparse_matvec_mul(vec_f, smat_f)\n",
    "    res = sparse_matvec_mul(res, smat_f2)\n",
    "    \n",
    "    for i in range(N-1):\n",
    "        res = sparse_matvec_mul(res, smat_f)\n",
    "        res = sparse_matvec_mul(res, smat_f2)\n",
    "    \n",
    "    print(5)\n",
    "\n",
    "    out = move_vector_host(res)\n",
    "    MV = np.matrix([vector_get(out, 2 * i) + vector_get(out, 2 * i + 1)*complex(0,1) for i in range(n) ]).T\n",
    "    \n",
    "    \n",
    "    return MV"
   ]
  },
  {
   "cell_type": "code",
   "execution_count": null,
   "id": "824aed97",
   "metadata": {},
   "outputs": [],
   "source": [
    "def test_vector_sparse_matrix_multiplication_complex_U(vec_f,smat_f,dim_U,N):\n",
    "#    print(\"test_vector_sparse_matrix_multiplication_complex\")\n",
    "    #print(1)\n",
    "    \n",
    "    sparse_matrix_pack(smat_f)\n",
    "    \n",
    "    move_vector_device(vec_f)\n",
    "    move_sparse_matrix_device(smat_f)\n",
    "\n",
    "    res = sparse_matvec_mul(vec_f, smat_f)\n",
    "    \n",
    "    for i in range(N-1):\n",
    "        res = sparse_matvec_mul(res, smat_f)\n",
    "    \n",
    "    #print(2)\n",
    "\n",
    "    out = move_vector_host(res)\n",
    "    MV = np.matrix([vector_get(out,2*i)+vector_get(out,2*i+1)*complex(0,1) for i in range(n)]).T\n",
    "        \n",
    "    return MV"
   ]
  },
  {
   "cell_type": "code",
   "execution_count": null,
   "id": "fc7c155e",
   "metadata": {},
   "outputs": [],
   "source": [
    "#function to compute probability\n",
    "#TODO: add a generalized version to CoinedModel\n",
    "def ComputeProb(state): #não usar compute e usar palavras por extenso\n",
    "    return [np.absolute(state[2*i, 0])**2 + np.absolute(state[2*i+1, 0])**2\n",
    "         for i in range(num_vert)]"
   ]
  },
  {
   "cell_type": "code",
   "execution_count": null,
   "id": "38e96b3f",
   "metadata": {},
   "outputs": [],
   "source": [
    "#number of iterations\n",
    "#for Felix's paper I thought about dividing into three images:\n",
    "# 1 - probability of initial state\n",
    "# 2 - probability of \"halfway through\", e.g. 50 steps\n",
    "# 3 - final probability, e.g. 100 steps\n",
    "N = int(np.floor(num_vert/4))\n",
    "\n",
    "n = U.shape[0]\n",
    "start = time.time()\n",
    "halfway_res = test_vector_sparse_matrix_multiplication_complex_U(vec_psi0, smat_Uprime, n, N)\n",
    "vec_halfway = vec_f_(halfway_res)\n",
    "final_res = test_vector_sparse_matrix_multiplication_complex_U(vec_halfway, smat_Uprime, n, N)\n",
    "print(time.time() - start)"
   ]
  },
  {
   "cell_type": "code",
   "execution_count": null,
   "id": "54622957",
   "metadata": {},
   "outputs": [],
   "source": [
    "#function for plotting probability distribution\n",
    "def PlotProb(state, title=None):\n",
    "    prob = ComputeProb(state)\n",
    "    plt.rcParams[\"figure.figsize\"] = (18,10)\n",
    "    size = np.floor(num_vert / 2)\n",
    "\n",
    "    plt.tick_params(length=10, width=1, labelsize=16)\n",
    "    \n",
    "    plt.xlabel('Vertex ID', fontsize=18)\n",
    "    plt.ylabel('Probability', fontsize=18)\n",
    "    \n",
    "    if title is not None:\n",
    "        plt.title(title, fontsize=22)\n",
    "    \n",
    "    plt.plot(np.arange(-size, size+1), prob, lw=2)"
   ]
  },
  {
   "cell_type": "code",
   "execution_count": null,
   "id": "24786fe1",
   "metadata": {},
   "outputs": [],
   "source": [
    "PlotProb(psi0.reshape(len(psi0), 1), \"Initial State\")"
   ]
  },
  {
   "cell_type": "code",
   "execution_count": null,
   "id": "b64ad208",
   "metadata": {},
   "outputs": [],
   "source": [
    "PlotProb(halfway_res, \"State after 50 steps\")"
   ]
  },
  {
   "cell_type": "code",
   "execution_count": null,
   "id": "921edfa7",
   "metadata": {},
   "outputs": [],
   "source": [
    "PlotProb(final_res, \"State after 100 steps\")"
   ]
  },
  {
   "cell_type": "code",
   "execution_count": null,
   "id": "5a2d0df3",
   "metadata": {},
   "outputs": [],
   "source": [
    "# n = Uprime.shape[0]\n",
    "# serial_Result = np.zeros((n,n))\n",
    "# start = time.time()\n",
    "# serial_Result = (Uprime**N)*psi0\n",
    "# print(time.time() - start)"
   ]
  },
  {
   "cell_type": "code",
   "execution_count": null,
   "id": "7fd2e880",
   "metadata": {},
   "outputs": [],
   "source": [
    "# print(LA.norm(serial_Result - parallel_Result))"
   ]
  },
  {
   "cell_type": "code",
   "execution_count": null,
   "id": "52049f82",
   "metadata": {},
   "outputs": [],
   "source": []
  },
  {
   "cell_type": "code",
   "execution_count": null,
   "id": "fb4043d4",
   "metadata": {},
   "outputs": [],
   "source": []
  },
  {
   "cell_type": "code",
   "execution_count": null,
   "id": "f855c06a",
   "metadata": {},
   "outputs": [],
   "source": [
    "# Uprime.shape"
   ]
  },
  {
   "cell_type": "code",
   "execution_count": null,
   "id": "076b290e",
   "metadata": {},
   "outputs": [],
   "source": [
    "stop_engine()"
   ]
  },
  {
   "cell_type": "code",
   "execution_count": null,
   "id": "6118e302",
   "metadata": {
    "scrolled": false
   },
   "outputs": [],
   "source": [
    "psi0 = np.zeros(2*num_vert, dtype=complex)\n",
    "psi0[2*mid_vert - 5] = 1 #pointing towards the right\n",
    "SD = S.todense()\n",
    "psi1 = np.squeeze(np.array(SD @ SD @ SD @ psi0))\n",
    "[i for i in range(len(psi0)) if psi1[i] != 0]"
   ]
  },
  {
   "cell_type": "code",
   "execution_count": null,
   "id": "da3a28db",
   "metadata": {},
   "outputs": [],
   "source": [
    "np.squeeze(np.array(S.todense() @ psi0))"
   ]
  }
 ],
 "metadata": {
  "kernelspec": {
   "display_name": "Python 3 (ipykernel)",
   "language": "python",
   "name": "python3"
  },
  "language_info": {
   "codemirror_mode": {
    "name": "ipython",
    "version": 3
   },
   "file_extension": ".py",
   "mimetype": "text/x-python",
   "name": "python",
   "nbconvert_exporter": "python",
   "pygments_lexer": "ipython3",
   "version": "3.8.10"
  }
 },
 "nbformat": 4,
 "nbformat_minor": 5
}
