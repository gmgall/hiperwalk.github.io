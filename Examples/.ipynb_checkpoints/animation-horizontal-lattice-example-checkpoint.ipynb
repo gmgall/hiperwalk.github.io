{
 "cells": [
  {
   "cell_type": "markdown",
   "id": "1c356184",
   "metadata": {},
   "source": [
    "# Animation For Horizontal Lattice Walk Using General Method"
   ]
  },
  {
   "cell_type": "code",
   "execution_count": 1,
   "id": "3e05f176",
   "metadata": {},
   "outputs": [],
   "source": [
    "import numpy as np\n",
    "import networkx as nx\n",
    "import sys\n",
    "sys.path.append('..')\n",
    "from CoinedModel import *\n",
    "from PlotModule import *\n",
    "from neblina import init_engine, stop_engine"
   ]
  },
  {
   "cell_type": "code",
   "execution_count": 2,
   "id": "13715a18",
   "metadata": {},
   "outputs": [],
   "source": [
    "#initialises neblina-core\n",
    "init_engine(0) #TODO: transfer this to inferface (check if it is already initialised)"
   ]
  },
  {
   "cell_type": "code",
   "execution_count": 3,
   "id": "913fdf2b",
   "metadata": {},
   "outputs": [],
   "source": [
    "#generating adjacency matrix of a 5x5 2d-horizontal-latiice\n",
    "grid_dim = 5\n",
    "G = nx.grid_graph(dim=(grid_dim, grid_dim), periodic=True)\n",
    "adj_matrix = nx.adjacency_matrix(G)\n",
    "del G #only the adjacency matrix is going to be used"
   ]
  },
  {
   "cell_type": "code",
   "execution_count": 4,
   "id": "71d81b5b",
   "metadata": {},
   "outputs": [],
   "source": [
    "#creating specific initial condition\n",
    "mid_vert = int(np.ceil(grid_dim**2 / 2)) - 1\n",
    "#beware that the coin is 4-sided,\n",
    "#thus, the initial condition being in the middle vertex,\n",
    "psi0 = np.zeros(4*grid_dim**2, dtype=float)\n",
    "psi0[4*mid_vert] = 1 #pointing downward\n",
    "psi0[4*mid_vert + 1] = -1 #poiting leftward\n",
    "psi0[4*mid_vert + 2] = -1 #pointing rightward\n",
    "psi0[4*mid_vert + 3] = 1 #pointing upward\n",
    "psi0 = psi0 / 2"
   ]
  },
  {
   "cell_type": "code",
   "execution_count": 5,
   "id": "b88f4efa",
   "metadata": {
    "scrolled": true
   },
   "outputs": [
    {
     "name": "stdout",
     "output_type": "stream",
     "text": [
      "TODO: vector_delete from pyneblina is not available\n",
      "TODO: vector_delete from pyneblina is not available\n",
      "TODO: vector_delete from pyneblina is not available\n",
      "TODO: vector_delete from pyneblina is not available\n",
      "TODO: vector_delete from pyneblina is not available\n",
      "TODO: vector_delete from pyneblina is not available\n",
      "TODO: vector_delete from pyneblina is not available\n",
      "TODO: vector_delete from pyneblina is not available\n",
      "TODO: vector_delete from pyneblina is not available\n",
      "TODO: vector_delete from pyneblina is not available\n"
     ]
    }
   ],
   "source": [
    "#simulating walk\n",
    "U = EvolutionOperator_CoinedModel(adj_matrix)\n",
    "num_steps = grid_dim\n",
    "states = SimulateWalk(U, psi0, num_steps, save_interval=1, save_initial_state=True)"
   ]
  },
  {
   "cell_type": "code",
   "execution_count": 6,
   "id": "841a14ad",
   "metadata": {},
   "outputs": [
    {
     "name": "stdout",
     "output_type": "stream",
     "text": [
      "[0, 1, 2, 3, 4, 5]\n"
     ]
    },
    {
     "data": {
      "image/png": "[encoded data removed]",
      "text/plain": [
       "<Figure size 720x576 with 2 Axes>"
      ]
     },
     "metadata": {},
     "output_type": "display_data"
    }
   ],
   "source": [
    "#computing probability\n",
    "prob = ProbabilityDistribution(adj_matrix, states)\n",
    "PlotProbabilityDistributionOnGraph(adj_matrix, prob, cmap='default', animate=True)"
   ]
  },
  {
   "cell_type": "code",
   "execution_count": 7,
   "id": "dfdc5d89",
   "metadata": {},
   "outputs": [
    {
     "data": {
      "text/plain": [
       "[True, True, True, True, True, True]"
      ]
     },
     "execution_count": 7,
     "metadata": {},
     "output_type": "execute_result"
    }
   ],
   "source": [
    "#checking if matrices multiplication are equal\n",
    "[(U**i @ psi0 == states[i]).all() for i in range(len(states))]"
   ]
  },
  {
   "cell_type": "code",
   "execution_count": 8,
   "id": "b9a55c1b",
   "metadata": {},
   "outputs": [],
   "source": [
    "#stops neblina-core\n",
    "stop_engine()"
   ]
  }
 ],
 "metadata": {
  "kernelspec": {
   "display_name": "Python 3 (ipykernel)",
   "language": "python",
   "name": "python3"
  },
  "language_info": {
   "codemirror_mode": {
    "name": "ipython",
    "version": 3
   },
   "file_extension": ".py",
   "mimetype": "text/x-python",
   "name": "python",
   "nbconvert_exporter": "python",
   "pygments_lexer": "ipython3",
   "version": "3.8.10"
  }
 },
 "nbformat": 4,
 "nbformat_minor": 5
}
